{
 "cells": [
  {
   "cell_type": "markdown",
   "metadata": {},
   "source": [
    "# Porównanie"
   ]
  },
  {
   "cell_type": "code",
   "execution_count": 8,
   "metadata": {},
   "outputs": [],
   "source": [
    "import copy\n",
    "from datareader import get_data\n",
    "from makespan import makespan, to_natural_order, get_order\n",
    "from schrage import schrage_n2, schrage_n2_pmtn, schrage_nlogn, schrage_nlogn_pmtn\n",
    "from random_search import random_search\n",
    "from simulated_annealing import simulated_annealing\n",
    "import numpy as np\n",
    "import pandas as pd\n",
    "import matplotlib\n",
    "import matplotlib.pyplot as plt\n",
    "\n",
    "sets = [\"data.000\", \"data.001\", \"data.002\", \"data.003\", \"data.004\", \"data.005\", \"data.006\", \"data.007\", \"data.008\", \"in50.txt\", \"in100.txt\", \"in200.txt\"]"
   ]
  },
  {
   "cell_type": "code",
   "execution_count": 4,
   "metadata": {},
   "outputs": [],
   "source": [
    "schrage_n2_makespans = []\n",
    "schrage_n2_times = []\n",
    "schrage_nlogn_makespans = []\n",
    "schrage_nlogn_times = []\n",
    "schrage_pmtn_n2_makespans = []\n",
    "schrage_pmtn_n2_times = []\n",
    "schrage_pmtn_nlogn_makespans = []\n",
    "schrage_pmtn_nlogn_times = []\n",
    "sa_makespans = []\n",
    "sa_times = []\n",
    "\n",
    "for set in sets:\n",
    "    tasks = get_data(set)\n",
    "    \n",
    "    # schrage n2\n",
    "    schrage_n2_order, schrage_n2_time = schrage_n2(tasks)\n",
    "    shrage_n2_makespan = makespan(schrage_n2_order, tasks)\n",
    "    schrage_n2_makespans.append(shrage_n2_makespan)\n",
    "    schrage_n2_times.append(schrage_n2_time)\n",
    "    \n",
    "    # schrage nlogn\n",
    "    schrage_nlogn_order, schrage_nlogn_time = schrage_nlogn(tasks)\n",
    "    shrage_nlogn_makespan = makespan(schrage_nlogn_order, tasks)\n",
    "    schrage_nlogn_makespans.append(shrage_nlogn_makespan)\n",
    "    schrage_nlogn_times.append(schrage_nlogn_time)\n",
    "    \n",
    "    # schrage pmtn n2\n",
    "    shrage_pmtn_n2_makespan, schrage_pmtn_n2_order, schrage_pmtn_n2_time = schrage_n2_pmtn(tasks)\n",
    "    schrage_pmtn_n2_makespans.append(shrage_pmtn_n2_makespan)\n",
    "    schrage_pmtn_n2_times.append(schrage_pmtn_n2_time)\n",
    "    \n",
    "    # schrage pmtn nlogn\n",
    "    shrage_pmtn_nlogn_makespan, schrage_pmtn_nlogn_order, schrage_pmtn_nlogn_time = schrage_nlogn_pmtn(tasks)\n",
    "    schrage_pmtn_nlogn_makespans.append(shrage_pmtn_nlogn_makespan)\n",
    "    schrage_pmtn_nlogn_times.append(schrage_pmtn_nlogn_time)\n",
    "\n",
    "    # simulated anealing\n",
    "    sa_order, sa_time = simulated_annealing(tasks, 5000000, 0.0001, 0.999)\n",
    "    sa_makespan = makespan(sa_order, tasks)\n",
    "    sa_makespans.append(sa_makespan)\n",
    "    sa_times.append(sa_time)"
   ]
  },
  {
   "cell_type": "code",
   "execution_count": 18,
   "metadata": {},
   "outputs": [
    {
     "name": "stdout",
     "output_type": "stream",
     "text": [
      "Average [SCHRAGE N2] CMAX: 3272, TIME: 3.65\n",
      "Average [SCHRAGE NLOGN] CMAX: 3271, TIME: 0.82\n",
      "Average [SCHRAGE PMTN N2] CMAX: 3237, TIME: 6.91\n",
      "Average [SCHRAGE PMTN NLOGN] CMAX: 3237, TIME: 2.08\n",
      "Average [SA] CMAX: 3249, TIME: 4032.41\n"
     ]
    }
   ],
   "source": [
    "print(\"Average [SCHRAGE N2] CMAX: {}, TIME: {}\" .format(int(np.mean(schrage_n2_makespans)), \"%.2f\"%np.mean(schrage_n2_times)))\n",
    "print(\"Average [SCHRAGE NLOGN] CMAX: {}, TIME: {}\" .format(int(np.mean(schrage_nlogn_makespans)), \"%.2f\"%np.mean(schrage_nlogn_times)))\n",
    "print(\"Average [SCHRAGE PMTN N2] CMAX: {}, TIME: {}\" .format(int(np.mean(schrage_pmtn_n2_makespans)), \"%.2f\"%np.mean(schrage_pmtn_n2_times)))\n",
    "print(\"Average [SCHRAGE PMTN NLOGN] CMAX: {}, TIME: {}\" .format(int(np.mean(schrage_pmtn_nlogn_makespans)), \"%.2f\"%np.mean(schrage_pmtn_nlogn_times)))\n",
    "print(\"Average [SA] CMAX: {}, TIME: {}\" .format(int(np.mean(sa_makespans)), \"%.2f\"%np.mean(sa_times)))"
   ]
  },
  {
   "cell_type": "code",
   "execution_count": 20,
   "metadata": {},
   "outputs": [
    {
     "name": "stdout",
     "output_type": "stream",
     "text": [
      "PORÓWNANIE MAKESPANÓW\n"
     ]
    },
    {
     "data": {
      "text/html": [
       "<div>\n",
       "<style scoped>\n",
       "    .dataframe tbody tr th:only-of-type {\n",
       "        vertical-align: middle;\n",
       "    }\n",
       "\n",
       "    .dataframe tbody tr th {\n",
       "        vertical-align: top;\n",
       "    }\n",
       "\n",
       "    .dataframe thead th {\n",
       "        text-align: right;\n",
       "    }\n",
       "</style>\n",
       "<table border=\"1\" class=\"dataframe\">\n",
       "  <thead>\n",
       "    <tr style=\"text-align: right;\">\n",
       "      <th></th>\n",
       "      <th>SCHRAGE N2 CMAX</th>\n",
       "      <th>SCHRAGE NLOGN CMAX</th>\n",
       "      <th>SCHRAGE PMTN N2 CMAX</th>\n",
       "      <th>SCHRAGE PMTN NLOGN CMAX</th>\n",
       "      <th>SA CMAX</th>\n",
       "    </tr>\n",
       "  </thead>\n",
       "  <tbody>\n",
       "    <tr>\n",
       "      <th>0</th>\n",
       "      <td>283</td>\n",
       "      <td>283</td>\n",
       "      <td>221</td>\n",
       "      <td>221</td>\n",
       "      <td>228</td>\n",
       "    </tr>\n",
       "    <tr>\n",
       "      <th>1</th>\n",
       "      <td>3109</td>\n",
       "      <td>3109</td>\n",
       "      <td>3026</td>\n",
       "      <td>3026</td>\n",
       "      <td>3026</td>\n",
       "    </tr>\n",
       "    <tr>\n",
       "      <th>2</th>\n",
       "      <td>3708</td>\n",
       "      <td>3708</td>\n",
       "      <td>3654</td>\n",
       "      <td>3654</td>\n",
       "      <td>3665</td>\n",
       "    </tr>\n",
       "    <tr>\n",
       "      <th>3</th>\n",
       "      <td>3353</td>\n",
       "      <td>3335</td>\n",
       "      <td>3309</td>\n",
       "      <td>3309</td>\n",
       "      <td>3309</td>\n",
       "    </tr>\n",
       "    <tr>\n",
       "      <th>4</th>\n",
       "      <td>3235</td>\n",
       "      <td>3235</td>\n",
       "      <td>3172</td>\n",
       "      <td>3172</td>\n",
       "      <td>3191</td>\n",
       "    </tr>\n",
       "    <tr>\n",
       "      <th>5</th>\n",
       "      <td>3625</td>\n",
       "      <td>3625</td>\n",
       "      <td>3618</td>\n",
       "      <td>3618</td>\n",
       "      <td>3627</td>\n",
       "    </tr>\n",
       "    <tr>\n",
       "      <th>6</th>\n",
       "      <td>3446</td>\n",
       "      <td>3446</td>\n",
       "      <td>3439</td>\n",
       "      <td>3439</td>\n",
       "      <td>3446</td>\n",
       "    </tr>\n",
       "    <tr>\n",
       "      <th>7</th>\n",
       "      <td>3862</td>\n",
       "      <td>3862</td>\n",
       "      <td>3820</td>\n",
       "      <td>3820</td>\n",
       "      <td>3821</td>\n",
       "    </tr>\n",
       "    <tr>\n",
       "      <th>8</th>\n",
       "      <td>3645</td>\n",
       "      <td>3645</td>\n",
       "      <td>3633</td>\n",
       "      <td>3633</td>\n",
       "      <td>3634</td>\n",
       "    </tr>\n",
       "    <tr>\n",
       "      <th>9</th>\n",
       "      <td>1513</td>\n",
       "      <td>1513</td>\n",
       "      <td>1492</td>\n",
       "      <td>1492</td>\n",
       "      <td>1492</td>\n",
       "    </tr>\n",
       "    <tr>\n",
       "      <th>10</th>\n",
       "      <td>3076</td>\n",
       "      <td>3076</td>\n",
       "      <td>3070</td>\n",
       "      <td>3070</td>\n",
       "      <td>3095</td>\n",
       "    </tr>\n",
       "    <tr>\n",
       "      <th>11</th>\n",
       "      <td>6416</td>\n",
       "      <td>6416</td>\n",
       "      <td>6398</td>\n",
       "      <td>6398</td>\n",
       "      <td>6463</td>\n",
       "    </tr>\n",
       "  </tbody>\n",
       "</table>\n",
       "</div>"
      ],
      "text/plain": [
       "    SCHRAGE N2 CMAX  SCHRAGE NLOGN CMAX  SCHRAGE PMTN N2 CMAX  \\\n",
       "0               283                 283                   221   \n",
       "1              3109                3109                  3026   \n",
       "2              3708                3708                  3654   \n",
       "3              3353                3335                  3309   \n",
       "4              3235                3235                  3172   \n",
       "5              3625                3625                  3618   \n",
       "6              3446                3446                  3439   \n",
       "7              3862                3862                  3820   \n",
       "8              3645                3645                  3633   \n",
       "9              1513                1513                  1492   \n",
       "10             3076                3076                  3070   \n",
       "11             6416                6416                  6398   \n",
       "\n",
       "    SCHRAGE PMTN NLOGN CMAX  SA CMAX  \n",
       "0                       221      228  \n",
       "1                      3026     3026  \n",
       "2                      3654     3665  \n",
       "3                      3309     3309  \n",
       "4                      3172     3191  \n",
       "5                      3618     3627  \n",
       "6                      3439     3446  \n",
       "7                      3820     3821  \n",
       "8                      3633     3634  \n",
       "9                      1492     1492  \n",
       "10                     3070     3095  \n",
       "11                     6398     6463  "
      ]
     },
     "execution_count": 20,
     "metadata": {},
     "output_type": "execute_result"
    }
   ],
   "source": [
    "d = {'SCHRAGE N2 CMAX': schrage_n2_makespans, 'SCHRAGE NLOGN CMAX': schrage_nlogn_makespans, 'SCHRAGE PMTN N2 CMAX': schrage_pmtn_n2_makespans, 'SCHRAGE PMTN NLOGN CMAX': schrage_pmtn_nlogn_makespans, 'SA CMAX': sa_makespans}\n",
    "table = pd.DataFrame(data=d)\n",
    "print(\"PORÓWNANIE MAKESPANÓW\")\n",
    "table"
   ]
  },
  {
   "cell_type": "code",
   "execution_count": 31,
   "metadata": {},
   "outputs": [
    {
     "name": "stdout",
     "output_type": "stream",
     "text": [
      "PORÓWNANIE CZASÓW\n"
     ]
    },
    {
     "data": {
      "text/html": [
       "<div>\n",
       "<style scoped>\n",
       "    .dataframe tbody tr th:only-of-type {\n",
       "        vertical-align: middle;\n",
       "    }\n",
       "\n",
       "    .dataframe tbody tr th {\n",
       "        vertical-align: top;\n",
       "    }\n",
       "\n",
       "    .dataframe thead th {\n",
       "        text-align: right;\n",
       "    }\n",
       "</style>\n",
       "<table border=\"1\" class=\"dataframe\">\n",
       "  <thead>\n",
       "    <tr style=\"text-align: right;\">\n",
       "      <th></th>\n",
       "      <th>SCHRAGE N2 CMAX</th>\n",
       "      <th>SCHRAGE NLOGN CMAX</th>\n",
       "      <th>% DIF</th>\n",
       "      <th>SCHRAGE PMTN N2 CMAX</th>\n",
       "      <th>SCHRAGE PMTN NLOGN CMAX</th>\n",
       "      <th>% DIF PMTN</th>\n",
       "      <th>SA CMAX</th>\n",
       "    </tr>\n",
       "  </thead>\n",
       "  <tbody>\n",
       "    <tr>\n",
       "      <th>0</th>\n",
       "      <td>0.183531</td>\n",
       "      <td>0.051527</td>\n",
       "      <td>71.924634</td>\n",
       "      <td>0.345447</td>\n",
       "      <td>0.147452</td>\n",
       "      <td>57.315594</td>\n",
       "      <td>438.077169</td>\n",
       "    </tr>\n",
       "    <tr>\n",
       "      <th>1</th>\n",
       "      <td>7.778496</td>\n",
       "      <td>0.658176</td>\n",
       "      <td>91.538519</td>\n",
       "      <td>9.261039</td>\n",
       "      <td>1.854821</td>\n",
       "      <td>79.971783</td>\n",
       "      <td>3279.894987</td>\n",
       "    </tr>\n",
       "    <tr>\n",
       "      <th>2</th>\n",
       "      <td>1.801499</td>\n",
       "      <td>0.548398</td>\n",
       "      <td>69.558795</td>\n",
       "      <td>4.693755</td>\n",
       "      <td>1.628993</td>\n",
       "      <td>65.294460</td>\n",
       "      <td>3199.539616</td>\n",
       "    </tr>\n",
       "    <tr>\n",
       "      <th>3</th>\n",
       "      <td>1.878004</td>\n",
       "      <td>0.337211</td>\n",
       "      <td>82.044181</td>\n",
       "      <td>3.914525</td>\n",
       "      <td>0.979436</td>\n",
       "      <td>74.979442</td>\n",
       "      <td>3319.648262</td>\n",
       "    </tr>\n",
       "    <tr>\n",
       "      <th>4</th>\n",
       "      <td>2.150096</td>\n",
       "      <td>0.628884</td>\n",
       "      <td>70.750887</td>\n",
       "      <td>4.778725</td>\n",
       "      <td>1.598051</td>\n",
       "      <td>66.559051</td>\n",
       "      <td>3173.180796</td>\n",
       "    </tr>\n",
       "    <tr>\n",
       "      <th>5</th>\n",
       "      <td>1.858668</td>\n",
       "      <td>0.565228</td>\n",
       "      <td>69.589620</td>\n",
       "      <td>4.490739</td>\n",
       "      <td>1.532932</td>\n",
       "      <td>65.864594</td>\n",
       "      <td>3174.028399</td>\n",
       "    </tr>\n",
       "    <tr>\n",
       "      <th>6</th>\n",
       "      <td>1.789715</td>\n",
       "      <td>0.624681</td>\n",
       "      <td>65.096063</td>\n",
       "      <td>4.661221</td>\n",
       "      <td>1.648644</td>\n",
       "      <td>64.630641</td>\n",
       "      <td>3197.478728</td>\n",
       "    </tr>\n",
       "    <tr>\n",
       "      <th>7</th>\n",
       "      <td>1.840448</td>\n",
       "      <td>0.582484</td>\n",
       "      <td>68.350967</td>\n",
       "      <td>4.702910</td>\n",
       "      <td>1.792451</td>\n",
       "      <td>61.886343</td>\n",
       "      <td>3207.913275</td>\n",
       "    </tr>\n",
       "    <tr>\n",
       "      <th>8</th>\n",
       "      <td>1.793841</td>\n",
       "      <td>0.597444</td>\n",
       "      <td>66.694707</td>\n",
       "      <td>4.446805</td>\n",
       "      <td>1.561557</td>\n",
       "      <td>64.883619</td>\n",
       "      <td>3273.760963</td>\n",
       "    </tr>\n",
       "    <tr>\n",
       "      <th>9</th>\n",
       "      <td>1.813763</td>\n",
       "      <td>0.621885</td>\n",
       "      <td>65.712996</td>\n",
       "      <td>4.899580</td>\n",
       "      <td>1.743873</td>\n",
       "      <td>64.407704</td>\n",
       "      <td>3179.627790</td>\n",
       "    </tr>\n",
       "    <tr>\n",
       "      <th>10</th>\n",
       "      <td>6.048192</td>\n",
       "      <td>1.467924</td>\n",
       "      <td>75.729540</td>\n",
       "      <td>9.981069</td>\n",
       "      <td>3.282349</td>\n",
       "      <td>67.114254</td>\n",
       "      <td>6272.449389</td>\n",
       "    </tr>\n",
       "    <tr>\n",
       "      <th>11</th>\n",
       "      <td>14.875734</td>\n",
       "      <td>3.161395</td>\n",
       "      <td>78.747973</td>\n",
       "      <td>26.745928</td>\n",
       "      <td>7.236033</td>\n",
       "      <td>72.945291</td>\n",
       "      <td>12673.327611</td>\n",
       "    </tr>\n",
       "  </tbody>\n",
       "</table>\n",
       "</div>"
      ],
      "text/plain": [
       "    SCHRAGE N2 CMAX  SCHRAGE NLOGN CMAX      % DIF  SCHRAGE PMTN N2 CMAX  \\\n",
       "0          0.183531            0.051527  71.924634              0.345447   \n",
       "1          7.778496            0.658176  91.538519              9.261039   \n",
       "2          1.801499            0.548398  69.558795              4.693755   \n",
       "3          1.878004            0.337211  82.044181              3.914525   \n",
       "4          2.150096            0.628884  70.750887              4.778725   \n",
       "5          1.858668            0.565228  69.589620              4.490739   \n",
       "6          1.789715            0.624681  65.096063              4.661221   \n",
       "7          1.840448            0.582484  68.350967              4.702910   \n",
       "8          1.793841            0.597444  66.694707              4.446805   \n",
       "9          1.813763            0.621885  65.712996              4.899580   \n",
       "10         6.048192            1.467924  75.729540              9.981069   \n",
       "11        14.875734            3.161395  78.747973             26.745928   \n",
       "\n",
       "    SCHRAGE PMTN NLOGN CMAX  % DIF PMTN       SA CMAX  \n",
       "0                  0.147452   57.315594    438.077169  \n",
       "1                  1.854821   79.971783   3279.894987  \n",
       "2                  1.628993   65.294460   3199.539616  \n",
       "3                  0.979436   74.979442   3319.648262  \n",
       "4                  1.598051   66.559051   3173.180796  \n",
       "5                  1.532932   65.864594   3174.028399  \n",
       "6                  1.648644   64.630641   3197.478728  \n",
       "7                  1.792451   61.886343   3207.913275  \n",
       "8                  1.561557   64.883619   3273.760963  \n",
       "9                  1.743873   64.407704   3179.627790  \n",
       "10                 3.282349   67.114254   6272.449389  \n",
       "11                 7.236033   72.945291  12673.327611  "
      ]
     },
     "execution_count": 31,
     "metadata": {},
     "output_type": "execute_result"
    }
   ],
   "source": [
    "shrage_perc_faster = []\n",
    "shrage_pmtn_perc_faster = []\n",
    "for i in range(0, len(schrage_n2_times)):\n",
    "    shrage_perc_faster.append((schrage_n2_times[i]-schrage_nlogn_times[i])/schrage_n2_times[i]*100)\n",
    "    \n",
    "for i in range(0, len(schrage_n2_times)):\n",
    "    shrage_pmtn_perc_faster.append((schrage_pmtn_n2_times[i]-schrage_pmtn_nlogn_times[i])/schrage_pmtn_n2_times[i]*100)\n",
    "\n",
    "d = {'SCHRAGE N2 CMAX': schrage_n2_times, 'SCHRAGE NLOGN CMAX': schrage_nlogn_times ,'SCHRAGE PMTN N2 CMAX': schrage_pmtn_n2_times, 'SCHRAGE PMTN NLOGN CMAX': schrage_pmtn_nlogn_times, '% DIF PMTN': shrage_pmtn_perc_faster, 'SA CMAX': sa_times}\n",
    "table = pd.DataFrame(data=d)\n",
    "print(\"PORÓWNANIE CZASÓW\")\n",
    "table"
   ]
  },
  {
   "cell_type": "markdown",
   "metadata": {},
   "source": [
    "# Podsumowanie"
   ]
  },
  {
   "cell_type": "code",
   "execution_count": 36,
   "metadata": {},
   "outputs": [
    {
     "name": "stdout",
     "output_type": "stream",
     "text": [
      "PORÓWNANIE CMAX\n"
     ]
    },
    {
     "data": {
      "image/png": "[encoded data removed]",
      "text/plain": [
       "<Figure size 432x288 with 1 Axes>"
      ]
     },
     "metadata": {
      "needs_background": "light"
     },
     "output_type": "display_data"
    }
   ],
   "source": [
    "times = []\n",
    "times.append(np.mean(schrage_n2_makespans))\n",
    "times.append(np.mean(schrage_pmtn_n2_makespans))\n",
    "times.append(np.mean(sa_makespans))\n",
    "             \n",
    "objects = ('SCHRAGE', 'SCHRAGE PMTN', 'SA')\n",
    "y_pos = np.arange(len(times))\n",
    "\n",
    "plt.barh(y_pos, times, align='center', alpha=0.5)\n",
    "plt.yticks(y_pos, objects)\n",
    "plt.xlabel('[ms]')\n",
    "plt.title('Times')\n",
    "print(\"PORÓWNANIE CMAX\")\n",
    "plt.show()"
   ]
  },
  {
   "cell_type": "code",
   "execution_count": 3,
   "metadata": {},
   "outputs": [
    {
     "ename": "NameError",
     "evalue": "name 'np' is not defined",
     "output_type": "error",
     "traceback": [
      "\u001b[0;31m---------------------------------------------------------------------------\u001b[0m",
      "\u001b[0;31mNameError\u001b[0m                                 Traceback (most recent call last)",
      "\u001b[0;32m<ipython-input-3-f916ac78a7d1>\u001b[0m in \u001b[0;36m<module>\u001b[0;34m()\u001b[0m\n\u001b[1;32m      1\u001b[0m \u001b[0mtimes\u001b[0m \u001b[0;34m=\u001b[0m \u001b[0;34m[\u001b[0m\u001b[0;34m]\u001b[0m\u001b[0;34m\u001b[0m\u001b[0;34m\u001b[0m\u001b[0m\n\u001b[0;32m----> 2\u001b[0;31m \u001b[0mtimes\u001b[0m\u001b[0;34m.\u001b[0m\u001b[0mappend\u001b[0m\u001b[0;34m(\u001b[0m\u001b[0mnp\u001b[0m\u001b[0;34m.\u001b[0m\u001b[0mmean\u001b[0m\u001b[0;34m(\u001b[0m\u001b[0mschrage_n2_times\u001b[0m\u001b[0;34m)\u001b[0m\u001b[0;34m)\u001b[0m\u001b[0;34m\u001b[0m\u001b[0;34m\u001b[0m\u001b[0m\n\u001b[0m\u001b[1;32m      3\u001b[0m \u001b[0mtimes\u001b[0m\u001b[0;34m.\u001b[0m\u001b[0mappend\u001b[0m\u001b[0;34m(\u001b[0m\u001b[0mnp\u001b[0m\u001b[0;34m.\u001b[0m\u001b[0mmean\u001b[0m\u001b[0;34m(\u001b[0m\u001b[0mschrage_nlogn_times\u001b[0m\u001b[0;34m)\u001b[0m\u001b[0;34m)\u001b[0m\u001b[0;34m\u001b[0m\u001b[0;34m\u001b[0m\u001b[0m\n\u001b[1;32m      4\u001b[0m \u001b[0mtimes\u001b[0m\u001b[0;34m.\u001b[0m\u001b[0mappend\u001b[0m\u001b[0;34m(\u001b[0m\u001b[0mnp\u001b[0m\u001b[0;34m.\u001b[0m\u001b[0mmean\u001b[0m\u001b[0;34m(\u001b[0m\u001b[0mschrage_pmtn_n2_times\u001b[0m\u001b[0;34m)\u001b[0m\u001b[0;34m)\u001b[0m\u001b[0;34m\u001b[0m\u001b[0;34m\u001b[0m\u001b[0m\n\u001b[1;32m      5\u001b[0m \u001b[0mtimes\u001b[0m\u001b[0;34m.\u001b[0m\u001b[0mappend\u001b[0m\u001b[0;34m(\u001b[0m\u001b[0mnp\u001b[0m\u001b[0;34m.\u001b[0m\u001b[0mmean\u001b[0m\u001b[0;34m(\u001b[0m\u001b[0mschrage_pmtn_nlogn_times\u001b[0m\u001b[0;34m)\u001b[0m\u001b[0;34m)\u001b[0m\u001b[0;34m\u001b[0m\u001b[0;34m\u001b[0m\u001b[0m\n",
      "\u001b[0;31mNameError\u001b[0m: name 'np' is not defined"
     ]
    }
   ],
   "source": [
    "times = []\n",
    "times.append(np.mean(schrage_n2_times))\n",
    "times.append(np.mean(schrage_nlogn_times))\n",
    "times.append(np.mean(schrage_pmtn_n2_times))\n",
    "times.append(np.mean(schrage_pmtn_nlogn_times))\n",
    "             \n",
    "objects = ('SCHRAGE N2', 'SCHRAGE NLOGN', 'SCHRAGE PMTN N2', 'SCHRAGE PMTN NLOGN')\n",
    "y_pos = np.arange(len(times))\n",
    "\n",
    "plt.barh(y_pos, times, align='center', alpha=0.5)\n",
    "plt.yticks(y_pos, objects)\n",
    "plt.xlabel('[ms]')\n",
    "plt.title('Times')\n",
    "print(\"PORÓWNANIE CZASÓW\")\n",
    "plt.show()"
   ]
  },
  {
   "cell_type": "markdown",
   "metadata": {},
   "source": [
    "# Test"
   ]
  },
  {
   "cell_type": "code",
   "execution_count": 33,
   "metadata": {},
   "outputs": [],
   "source": [
    "from makespan import create_instances\n",
    "\n",
    "taskset = []\n",
    "x = []\n",
    "\n",
    "for i in range(1, 500):\n",
    "    taskset.append(create_instances(i))\n",
    "    x.append(i)"
   ]
  },
  {
   "cell_type": "code",
   "execution_count": 34,
   "metadata": {},
   "outputs": [],
   "source": [
    "schrage_n2_makespans = []\n",
    "schrage_n2_times = []\n",
    "schrage_nlogn_makespans = []\n",
    "schrage_nlogn_times = []\n",
    "schrage_pmtn_n2_makespans = []\n",
    "schrage_pmtn_n2_times = []\n",
    "schrage_pmtn_nlogn_makespans = []\n",
    "schrage_pmtn_nlogn_times = []\n",
    "\n",
    "for tasks in taskset:\n",
    "    \n",
    "    # schrage n2\n",
    "    schrage_n2_order, schrage_n2_time = schrage_n2(tasks)\n",
    "    shrage_n2_makespan = makespan(schrage_n2_order, tasks)\n",
    "    schrage_n2_makespans.append(shrage_n2_makespan)\n",
    "    schrage_n2_times.append(schrage_n2_time)\n",
    "    \n",
    "    # schrage nlogn\n",
    "    schrage_nlogn_order, schrage_nlogn_time = schrage_nlogn(tasks)\n",
    "    shrage_nlogn_makespan = makespan(schrage_nlogn_order, tasks)\n",
    "    schrage_nlogn_makespans.append(shrage_nlogn_makespan)\n",
    "    schrage_nlogn_times.append(schrage_nlogn_time)\n",
    "    \n",
    "    # schrage pmtn n2\n",
    "    shrage_pmtn_n2_makespan, schrage_pmtn_n2_order, schrage_pmtn_n2_time = schrage_n2_pmtn(tasks)\n",
    "    schrage_pmtn_n2_makespans.append(shrage_pmtn_n2_makespan)\n",
    "    schrage_pmtn_n2_times.append(schrage_pmtn_n2_time)\n",
    "    \n",
    "    # schrage pmtn nlogn\n",
    "    shrage_pmtn_nlogn_makespan, schrage_pmtn_nlogn_order, schrage_pmtn_nlogn_time = schrage_nlogn_pmtn(tasks)\n",
    "    schrage_pmtn_nlogn_makespans.append(shrage_pmtn_nlogn_makespan)\n",
    "    schrage_pmtn_nlogn_times.append(schrage_pmtn_nlogn_time)\n"
   ]
  },
  {
   "cell_type": "code",
   "execution_count": 35,
   "metadata": {},
   "outputs": [
    {
     "name": "stdout",
     "output_type": "stream",
     "text": [
      "SCHRAGE\n"
     ]
    },
    {
     "data": {
      "image/png": "[encoded data removed]",
      "text/plain": [
       "<Figure size 432x288 with 1 Axes>"
      ]
     },
     "metadata": {
      "needs_background": "light"
     },
     "output_type": "display_data"
    }
   ],
   "source": [
    "print(\"SCHRAGE\")\n",
    "plt.plot(x, schrage_n2_times)\n",
    "plt.plot(x, schrage_nlogn_times)\n",
    "plt.show()"
   ]
  },
  {
   "cell_type": "code",
   "execution_count": 36,
   "metadata": {},
   "outputs": [
    {
     "name": "stdout",
     "output_type": "stream",
     "text": [
      "SCHRAGE PMTN\n"
     ]
    },
    {
     "data": {
      "image/png": "[encoded data removed]",
      "text/plain": [
       "<Figure size 432x288 with 1 Axes>"
      ]
     },
     "metadata": {
      "needs_background": "light"
     },
     "output_type": "display_data"
    }
   ],
   "source": [
    "print(\"SCHRAGE PMTN\")\n",
    "plt.plot(x, schrage_pmtn_n2_times)\n",
    "plt.plot(x, schrage_pmtn_nlogn_times)\n",
    "plt.show()"
   ]
  }
 ],
 "metadata": {
  "kernelspec": {
   "display_name": "Python 3",
   "language": "python",
   "name": "python3"
  },
  "language_info": {
   "codemirror_mode": {
    "name": "ipython",
    "version": 3
   },
   "file_extension": ".py",
   "mimetype": "text/x-python",
   "name": "python",
   "nbconvert_exporter": "python",
   "pygments_lexer": "ipython3",
   "version": "3.7.1"
  }
 },
 "nbformat": 4,
 "nbformat_minor": 2
}
