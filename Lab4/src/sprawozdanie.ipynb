{
 "cells": [
  {
   "cell_type": "markdown",
   "metadata": {},
   "source": [
    "# Algorytm Schrage i jego modyfikacje"
   ]
  },
  {
   "cell_type": "markdown",
   "metadata": {},
   "source": [
    "Podstawowym celem laboratorium bylo zapoznanie sie z algorytmem a rozwiazywania problemu RPQ - algorytmem Schrage. Problem RPQ zakłada, ze kazde zadanie zanim zostanie wykonane musi przejsc proces przygotowania, nastepnie jest wykonywane nieprzerwanie przez kolejny okres czasu, aby na koniec zostalo dostarczone znowu w danym czasie. Totez kazde zadanie opisywane jest przez trzy czasy."
   ]
  },
  {
   "cell_type": "markdown",
   "metadata": {},
   "source": [
    "Na samym poczatku wczytano dane do pamieci."
   ]
  },
  {
   "cell_type": "code",
   "execution_count": 1,
   "metadata": {},
   "outputs": [],
   "source": [
    "import copy\n",
    "from datareader import get_data\n",
    "from makespan import makespan, to_natural_order, get_order\n",
    "from schrage import schrage_n2, schrage_n2_pmtn, schrage_nlogn, schrage_nlogn_pmtn\n",
    "from random_search import random_search\n",
    "from task import Task\n",
    "import os\n",
    "import sys\n",
    "import re"
   ]
  },
  {
   "cell_type": "markdown",
   "metadata": {},
   "source": [
    "Algorytm Schrage jest w stanie znalezc odpowiednia kolejnosc i wyliczyc czas makespan. Zostal on podany w formie pseudokodu, a nastepnie zostal przepisany na kod Pythona. "
   ]
  },
  {
   "cell_type": "code",
   "execution_count": 3,
   "metadata": {},
   "outputs": [
    {
     "name": "stdout",
     "output_type": "stream",
     "text": [
      "[INIT] makespan:  2843\n"
     ]
    }
   ],
   "source": [
    "tasks = get_data(\"in50.txt\")\n",
    "# INITIAL ORDER\n",
    "init_order = get_order(tasks)\n",
    "init_makespan = makespan(init_order, tasks)\n",
    "print (\"[INIT] makespan: \", init_makespan)"
   ]
  },
  {
   "cell_type": "markdown",
   "metadata": {},
   "source": [
    "Przedstawiono makespan poczatkowej kolejnosci, aby pokazac, ze algorytmy zastosowane zmniejszaja znacznie jej wartosc, czyli sa uzyteczne. Nastepnym krokiem byla implementacja algorytmu Schrage o kwadratowej zlozonosci obliczeniowej."
   ]
  },
  {
   "cell_type": "code",
   "execution_count": 4,
   "metadata": {},
   "outputs": [],
   "source": [
    "from makespan import get_order\n",
    "import copy\n",
    "import numpy as np\n",
    "from task import Task\n",
    "import heap_max\n",
    "import heap_min\n",
    "from timeit import default_timer as timer\n",
    "\n",
    "\n",
    "def get_column(tasks, element):\n",
    "    column = []\n",
    "    for item in tasks:\n",
    "        column.append(item.times[element])\n",
    "    return column\n",
    "\n",
    "\n",
    "def get_min(list):\n",
    "    if len(list) <= 0:\n",
    "        return -1\n",
    "    else:\n",
    "        return min(list)\n",
    "\n",
    "\n",
    "def schrage_n2(tasks):\n",
    "    start = timer()\n",
    "    W_tasks = []  # temporary order\n",
    "    G_tasks = []  # ready to order tasks\n",
    "    N_tasks = copy.deepcopy(tasks)\n",
    "    t = get_min(get_column(N_tasks, 0))\n",
    "\n",
    "    while len(N_tasks) != 0 or len(G_tasks) != 0:\n",
    "        while len(N_tasks) != 0 and get_min(get_column(N_tasks, 0)) <= t:\n",
    "            j = np.argmin(get_column(N_tasks, 0))\n",
    "            G_tasks.append(N_tasks[j])\n",
    "            del N_tasks[j]\n",
    "        if len(G_tasks) == 0:\n",
    "            t = get_min(get_column(N_tasks, 0))\n",
    "        else:\n",
    "            j = np.argmax(get_column(G_tasks, 2))\n",
    "            t += G_tasks[j].times[1]\n",
    "            W_tasks.append(G_tasks[j])\n",
    "            del G_tasks[j]\n",
    "    stop = timer()\n",
    "    return get_order(W_tasks), (stop-start)*1000"
   ]
  },
  {
   "cell_type": "code",
   "execution_count": 5,
   "metadata": {},
   "outputs": [
    {
     "name": "stdout",
     "output_type": "stream",
     "text": [
      "[SHRAGE N^2] makespan: 1513, time: 3.5688680000021122\n"
     ]
    }
   ],
   "source": [
    "# SCHRAGE ORDER\n",
    "schrage_n2_order, schrage_n2_time = schrage_n2(tasks)\n",
    "shrage_n2_makespan = makespan(schrage_n2_order, tasks)\n",
    "#print(\"[SHRAGE N^2] order: \", schrage_n2_order)\n",
    "print(\"[SHRAGE N^2] makespan: {}, time: {}\" .format(shrage_n2_makespan, schrage_n2_time))"
   ]
  },
  {
   "cell_type": "markdown",
   "metadata": {},
   "source": [
    "Zatem po wprowadzeniu algorytmu Schrage czas makespan zmniejszyl sie z 2843 na 1513. Czas wykonywania bedzie wazny do porownania z algorytmem Schrage o zlozonosci logarytmicznej i zbudowanym na kopcu."
   ]
  },
  {
   "cell_type": "markdown",
   "metadata": {},
   "source": [
    "Kolejny algorytm dopuszcza mozliwosc przerywania wykonywania zadania przed jego zakonczeniem. Jest to algorytm Schrage PMTN. Algorytm zawiera dodatkowy warunek i dopuszcza mozliwosc przerwania zadania, jezeli gotowe do wykonania zadanie ma dłuzszy czas dostarczenia."
   ]
  },
  {
   "cell_type": "code",
   "execution_count": 6,
   "metadata": {},
   "outputs": [],
   "source": [
    "def schrage_n2_pmtn(tasks):\n",
    "    start = timer()\n",
    "    W_tasks = []  # temporary order\n",
    "    G_tasks = []  # ready to order tasks\n",
    "    N_tasks = copy.deepcopy(tasks)\n",
    "    t = get_min(get_column(N_tasks, 0))\n",
    "    q_0 = 99999999\n",
    "    task_l = Task(0, [0, 0, q_0])  # current task\n",
    "    cmax = 0\n",
    "\n",
    "    while len(N_tasks) != 0 or len(G_tasks) != 0:\n",
    "        while len(N_tasks) != 0 and get_min(get_column(N_tasks, 0)) <= t:\n",
    "            j = np.argmin(get_column(N_tasks, 0))\n",
    "            task_j = copy.deepcopy(N_tasks[j])\n",
    "            del N_tasks[j]\n",
    "            G_tasks.append(task_j)\n",
    "            if task_j.times[2] > task_l.times[2]:\n",
    "                task_l.times[1] = t - task_j.times[0]\n",
    "                t = task_j.times[0]\n",
    "                if task_l.times[1] > 0:\n",
    "                    G_tasks.append(task_l)\n",
    "        if len(G_tasks) == 0:\n",
    "            t = get_min(get_column(N_tasks, 0))\n",
    "        else:\n",
    "            j = np.argmax(get_column(G_tasks, 2))\n",
    "            task_j = copy.deepcopy(G_tasks[j])\n",
    "            del G_tasks[j]\n",
    "            t += task_j.times[1]\n",
    "            cmax = max(cmax, t + task_j.times[2])\n",
    "            task_l = copy.deepcopy(task_j)\n",
    "            W_tasks.append(task_j)\n",
    "    stop = timer()\n",
    "    return cmax, get_order(W_tasks), (stop-start)*1000"
   ]
  },
  {
   "cell_type": "code",
   "execution_count": 7,
   "metadata": {},
   "outputs": [
    {
     "name": "stdout",
     "output_type": "stream",
     "text": [
      "[SHRAGE N^2 PMTN] makespan: 1492, time: 10.478117000005227\n"
     ]
    }
   ],
   "source": [
    "#SCHRAGE ORDER N2 PMTN\n",
    "schrage_n2_ptmn_makespan, schrage_n2_ptmn_order, schrage_n2_ptmn_time = schrage_n2_pmtn(tasks)\n",
    "print(\"[SHRAGE N^2 PMTN] makespan: {}, time: {}\" .format(schrage_n2_ptmn_makespan, schrage_n2_ptmn_time))\n"
   ]
  },
  {
   "cell_type": "markdown",
   "metadata": {},
   "source": [
    "Czas wykonywania wydluzyl sie w porownaniu do algorytmu Schrage zwyklego poprzez dodanie dodatkowych warunkow. Uzyskano natomiast krotszy czas makespan, gdyz dopuscilismy do przerwania zadan, przez co zastosowalismy swojego rodzaju optymalizacje. \n"
   ]
  },
  {
   "cell_type": "markdown",
   "metadata": {},
   "source": [
    "Nastepnie sprobowano zdefiniowac algorytm Schrage i algorytm Schrage PMTN o zlozonosci obliczeniowej logarytmicznej. W tym celu zaimplementowano strukture o charakterze kopca (dostep i odczyt z kopca maja zlozonosc logarytmiczna). \n",
    "Zastosowano dwa kopce: jeden w celu gromadzenia najkrotszych czasow przygotowania, drugi w celu gromadzenia najdluzszych czasow dostarczenia."
   ]
  },
  {
   "cell_type": "markdown",
   "metadata": {},
   "source": [
    "Kopiec tworzony w oparciu o najkrotsze czasy przygotowania:\n"
   ]
  },
  {
   "cell_type": "code",
   "execution_count": 8,
   "metadata": {},
   "outputs": [],
   "source": [
    "import math\n",
    "\n",
    "\n",
    "def swap(t, left, right):\n",
    "    t[left], t[right] = t[right], t[left]\n",
    "\n",
    "\n",
    "def get_parent_node(n):\n",
    "    return math.floor((n-1)/2)\n",
    "\n",
    "\n",
    "def get_left_node(n):\n",
    "    return 2*n+1\n",
    "\n",
    "\n",
    "def get_right_node(n):\n",
    "    return 2*n+2\n",
    "\n",
    "\n",
    "def perc_up(tasks, i):\n",
    "    p = get_parent_node(i)\n",
    "    while i > 0 and tasks[p].times[0] > tasks[i].times[0]:\n",
    "        swap(tasks, p, i)\n",
    "        i = p\n",
    "        p = get_parent_node(i)\n",
    "\n",
    "\n",
    "def perc_down(tasks, i):\n",
    "    n = len(tasks) - 1  # last element\n",
    "    while True:\n",
    "        left = get_left_node(i)\n",
    "        right = get_right_node(i)\n",
    "        if left < n and tasks[left].times[0] < tasks[i].times[0]:\n",
    "            m = left\n",
    "        else:\n",
    "            m = i\n",
    "        if right < n and tasks[right].times[0] < tasks[m].times[0]:\n",
    "            m = right\n",
    "        if m == i:\n",
    "            break\n",
    "        else:\n",
    "            swap(tasks, m, i)\n",
    "            i = m\n",
    "\n",
    "\n",
    "class Heap:\n",
    "    def __init__(self):\n",
    "        self.tasks = []\n",
    "\n",
    "    def __str__(self):\n",
    "        return str(self.tasks)\n",
    "\n",
    "    def is_empty(self):\n",
    "        return not self.tasks\n",
    "\n",
    "    def insert(self, task):\n",
    "        self.tasks.append(task)\n",
    "        perc_up(self.tasks, len(self.tasks)-1)\n",
    "\n",
    "    def remove(self):\n",
    "        # move max to end\n",
    "        swap(self.tasks, 0, len(self.tasks) - 1)\n",
    "        perc_down(self.tasks, 0)\n",
    "        return self.tasks.pop()\n",
    "\n",
    "    def count(self):\n",
    "        return len(self.tasks)\n",
    "\n",
    "    def root(self):\n",
    "        return self.tasks[0]\n"
   ]
  },
  {
   "cell_type": "markdown",
   "metadata": {},
   "source": [
    "Kopiec tworzony w oparciu o najdluzsze czasy dostarczenia:"
   ]
  },
  {
   "cell_type": "code",
   "execution_count": 9,
   "metadata": {},
   "outputs": [],
   "source": [
    "\n",
    "def swap(t, left, right):\n",
    "    t[left], t[right] = t[right], t[left]\n",
    "\n",
    "\n",
    "def get_parent_node(n):\n",
    "    return math.floor((n-1)/2)\n",
    "\n",
    "\n",
    "def get_left_node(n):\n",
    "    return 2*n+1\n",
    "\n",
    "\n",
    "def get_right_node(n):\n",
    "    return 2*n+2\n",
    "\n",
    "\n",
    "def perc_up(tasks, i):\n",
    "    p = get_parent_node(i)\n",
    "    while i > 0 and tasks[p].times[2] < tasks[i].times[2]:\n",
    "        swap(tasks, p, i)\n",
    "        i = p\n",
    "        p = get_parent_node(i)\n",
    "\n",
    "\n",
    "def perc_down(tasks, i):\n",
    "    n = len(tasks) - 1  # last element\n",
    "    while True:\n",
    "        left = get_left_node(i)\n",
    "        right = get_right_node(i)\n",
    "        if left < n and tasks[left].times[2] > tasks[i].times[2]:\n",
    "            m = left\n",
    "        else:\n",
    "            m = i\n",
    "        if right < n and tasks[right].times[2] > tasks[m].times[2]:\n",
    "            m = right\n",
    "        if m == i:\n",
    "            break\n",
    "        else:\n",
    "            swap(tasks, m, i)\n",
    "            i = m\n",
    "\n",
    "\n",
    "class Heap:\n",
    "    def __init__(self):\n",
    "        self.tasks = []\n",
    "\n",
    "    def __str__(self):\n",
    "        return str(self.tasks)\n",
    "\n",
    "    def is_empty(self):\n",
    "        return not self.tasks\n",
    "\n",
    "    def insert(self, task):\n",
    "        self.tasks.append(task)\n",
    "        perc_up(self.tasks, len(self.tasks)-1)\n",
    "\n",
    "    def remove(self):\n",
    "        # move max to end\n",
    "        swap(self.tasks, 0, len(self.tasks) - 1)\n",
    "        perc_down(self.tasks, 0)\n",
    "        return self.tasks.pop()\n",
    "\n",
    "    def count(self):\n",
    "        return len(self.tasks)\n",
    "\n",
    "    def root(self):\n",
    "        return self.tasks[0]\n"
   ]
  },
  {
   "cell_type": "markdown",
   "metadata": {},
   "source": [
    "ALgorytm, ktory obsluguje kopce dla zwyklego problemu RPQ bez przerywania wyglada nastepujaco:\n",
    "    "
   ]
  },
  {
   "cell_type": "code",
   "execution_count": 10,
   "metadata": {},
   "outputs": [],
   "source": [
    "def schrage_nlogn(tasks):\n",
    "    start = timer()\n",
    "    N_tasks = heap_min.Heap()\n",
    "\n",
    "    # insert tasks\n",
    "    for task in tasks:\n",
    "        N_tasks.insert(task)\n",
    "\n",
    "    G_tasks = heap_max.Heap()\n",
    "    W_tasks = []  # temporary order\n",
    "\n",
    "    t = N_tasks.root().times[0]  # min r value\n",
    "\n",
    "    cmax = 0\n",
    "\n",
    "    while N_tasks.count() != 0 or G_tasks.count() != 0:\n",
    "        while N_tasks.count() != 0 and N_tasks.root().times[0] <= t:\n",
    "            G_tasks.insert(N_tasks.remove())\n",
    "        if G_tasks.count() == 0:\n",
    "            t = N_tasks.root().times[0]\n",
    "        else:\n",
    "            task_j = G_tasks.remove()\n",
    "            t += task_j.times[1]\n",
    "            cmax = max(cmax, t + task_j.times[2])\n",
    "            W_tasks.append(task_j)\n",
    "    stop = timer()\n",
    "    return get_order(W_tasks), (stop-start)*1000"
   ]
  },
  {
   "cell_type": "markdown",
   "metadata": {},
   "source": [
    "Algorytm, ktory obsluguje kopce i dopuszcza mozliwosc przerywania zadan, wyglada nastepujaco:"
   ]
  },
  {
   "cell_type": "code",
   "execution_count": 11,
   "metadata": {},
   "outputs": [],
   "source": [
    "\n",
    "def schrage_nlogn_pmtn(tasks):\n",
    "    start = timer()\n",
    "    N_tasks = heap_min.Heap()\n",
    "\n",
    "    # insert tasks\n",
    "    for task in tasks:\n",
    "        N_tasks.insert(task)\n",
    "\n",
    "    G_tasks = heap_max.Heap()\n",
    "    W_tasks = []  # temporary order\n",
    "\n",
    "    t = N_tasks.root().times[0]  # min r value\n",
    "\n",
    "    cmax = 0\n",
    "\n",
    "    q_0 = 99999999\n",
    "    task_l = Task(0, [0, 0, q_0])  # current task\n",
    "\n",
    "    while N_tasks.count() != 0 or G_tasks.count() != 0:\n",
    "        while N_tasks.count() != 0 and N_tasks.root().times[0] <= t:\n",
    "            task_j = N_tasks.remove()\n",
    "            G_tasks.insert(task_j)\n",
    "            if task_j.times[2] > task_l.times[2]:\n",
    "                task_l.times[1] = t - task_j.times[0]\n",
    "                t = task_j.times[0]\n",
    "                if task_l.times[1] > 0:\n",
    "                    G_tasks.insert(task_l)  # continue paused\n",
    "        if G_tasks.count() == 0:\n",
    "            t = N_tasks.root().times[0]\n",
    "        else:\n",
    "            task_j = G_tasks.remove()\n",
    "            t += task_j.times[1]\n",
    "            cmax = max(cmax, t + task_j.times[2])\n",
    "            task_l = copy.deepcopy(task_j)\n",
    "            W_tasks.append(task_j)\n",
    "    stop = timer()\n",
    "    return cmax, get_order(W_tasks), (stop-start)*1000"
   ]
  },
  {
   "cell_type": "markdown",
   "metadata": {},
   "source": [
    "Efekty dzialania algorytmu o zlozonosci obliczeniowej logarytmicznej."
   ]
  },
  {
   "cell_type": "markdown",
   "metadata": {},
   "source": [
    "[SHRAGE N^2] makespan: 1513, time: 8.651367000311438\n",
    "\n",
    "[SHRAGE NLOGN] makespan: 1513, time: 2.2486239995487267\n",
    "\n",
    "[SHRAGE N^2 PMTN] makespan: 1492, time: 32.236019000265514\n",
    "\n",
    "[SHRAGE NLOGN PMTN] makespan: 1492, time: 9.03433299936296\n"
   ]
  },
  {
   "cell_type": "markdown",
   "metadata": {},
   "source": [
    "Widac zatem, ze porownujac algorytm Schrage o dwoch roznych zlozonosciach, w przypadku zlozonosci logarytmicznej czas wykonania jest o wiele krotszy. Czasy makespan z kolei sie nie zmienily. Taka sama wytuacja wystapila w przypadku algorytmu Schrage PMTN. "
   ]
  },
  {
   "cell_type": "markdown",
   "metadata": {},
   "source": [
    "Czasy makespan porownano z wzorcowymi i wyniki sie zgadzaly."
   ]
  },
  {
   "cell_type": "code",
   "execution_count": 25,
   "metadata": {},
   "outputs": [
    {
     "name": "stdout",
     "output_type": "stream",
     "text": [
      "[ SA ] makespan: 1499\n"
     ]
    }
   ],
   "source": [
    "from simulated_annealing import simulated_annealing\n",
    "# SIMULATED ANNEALING ORDER\n",
    "init_temp = 50000000\n",
    "final_temp = 0.00001\n",
    "u = 0.999\n",
    "cooling_fcn_type = 0\n",
    "move_type = 0\n",
    "insert = 0\n",
    "\n",
    "simulated_annealing_order = simulated_annealing(copy.deepcopy(tasks), init_temp, final_temp, u)\n",
    "simulated_annealing_makespan = makespan(simulated_annealing_order, tasks)\n",
    "print(\"[ SA ] makespan: {}\" .format(simulated_annealing_makespan))"
   ]
  },
  {
   "cell_type": "markdown",
   "metadata": {},
   "source": [
    "Z powodu problemow ze znalezieniem modyfikacji (bez Carliera), porownano dzialanie algorytmu do symulowanego wyzazania. Stwierdzono, ze makespan algorytmu SA jest mniejszy niz makespan algorytmu Schrage przy odpowiednio dobranych parametrach. "
   ]
  },
  {
   "cell_type": "markdown",
   "metadata": {},
   "source": []
  },
  {
   "cell_type": "code",
   "execution_count": null,
   "metadata": {},
   "outputs": [],
   "source": []
  },
  {
   "cell_type": "code",
   "execution_count": null,
   "metadata": {},
   "outputs": [],
   "source": []
  },
  {
   "cell_type": "code",
   "execution_count": null,
   "metadata": {},
   "outputs": [],
   "source": []
  }
 ],
 "metadata": {
  "kernelspec": {
   "display_name": "Python 3",
   "language": "python",
   "name": "python3"
  },
  "language_info": {
   "codemirror_mode": {
    "name": "ipython",
    "version": 3
   },
   "file_extension": ".py",
   "mimetype": "text/x-python",
   "name": "python",
   "nbconvert_exporter": "python",
   "pygments_lexer": "ipython3",
   "version": "3.7.1"
  }
 },
 "nbformat": 4,
 "nbformat_minor": 2
}
