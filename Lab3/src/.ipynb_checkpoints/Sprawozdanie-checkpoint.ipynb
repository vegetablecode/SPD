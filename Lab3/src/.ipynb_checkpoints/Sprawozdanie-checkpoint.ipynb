{
 "cells": [
  {
   "cell_type": "code",
   "execution_count": 1,
   "metadata": {},
   "outputs": [],
   "source": [
    "import copy\n",
    "from datareader import get_data\n",
    "from makespan import makespan, to_natural_order, get_order\n",
    "from simulated_annealing import simulated_annealing\n",
    "from neh import neh"
   ]
  },
  {
   "cell_type": "markdown",
   "metadata": {},
   "source": [
    "# Podstawowe wywołanie skryptu"
   ]
  },
  {
   "cell_type": "code",
   "execution_count": 5,
   "metadata": {
    "scrolled": true
   },
   "outputs": [
    {
     "name": "stdout",
     "output_type": "stream",
     "text": [
      "[INIT] makespan: 1448, time: 0\n",
      "[NEH ] makespan: 1286, time: 7.047681000017292\n",
      "[ SA ] makespan: 1297, time: 54.09593499999232\n",
      "-----\n",
      "Algorithm finished after: 536 iterations\n",
      "Initial temperature: 5000\n",
      "Final temperature: 0.1\n",
      "u: 0.98\n",
      "Cooling function type: 0\n",
      "Move type: 0\n",
      "-----\n",
      "NEH and SA Cmax difference: -11\n"
     ]
    }
   ],
   "source": [
    "tasks, numb_of_machines = get_data(\"data.001\")\n",
    "\n",
    "# INITIAL ORDER\n",
    "initial_order = get_order(tasks)\n",
    "initial_makespan = makespan(initial_order, tasks, numb_of_machines)\n",
    "print(\"[INIT] makespan: {}, time: {}\" .format(initial_makespan, 0))\n",
    "\n",
    "# NEH ORDER\n",
    "neh_order, neh_time = neh(copy.deepcopy(tasks), numb_of_machines)\n",
    "neh_makespan = makespan(neh_order, tasks, numb_of_machines)\n",
    "print(\"[NEH ] makespan: {}, time: {}\" .format(neh_makespan, neh_time))\n",
    "\n",
    "# SIMULATED ANNEALING ORDER\n",
    "init_temp = 5000\n",
    "final_temp = 0.1\n",
    "u = 0.98\n",
    "cooling_fcn_type = 0\n",
    "move_type = 0\n",
    "\n",
    "simulated_annealing_order, iterations, sa_time = simulated_annealing(copy.deepcopy(tasks), numb_of_machines, init_temp, final_temp, u, cooling_fcn_type, move_type)\n",
    "simulated_annealing_makespan = makespan(simulated_annealing_order, tasks, numb_of_machines)\n",
    "print(\"[ SA ] makespan: {}, time: {}\" .format(simulated_annealing_makespan, sa_time))\n",
    "\n",
    "print(\"-----\")\n",
    "print(\"Algorithm finished after: {} iterations\" .format(iterations))\n",
    "print(\"Initial temperature: {}\" .format(init_temp))\n",
    "print(\"Final temperature: {}\" .format(final_temp))\n",
    "print(\"u: {}\" .format(u))\n",
    "print(\"Cooling function type: {}\" .format(cooling_fcn_type))\n",
    "print(\"Move type: {}\" .format(move_type))\n",
    "print(\"-----\")\n",
    "\n",
    "print(\"NEH and SA Cmax difference: {}\" .format(neh_makespan-simulated_annealing_makespan))"
   ]
  },
  {
   "cell_type": "markdown",
   "metadata": {},
   "source": [
    "## Wioski"
   ]
  },
  {
   "cell_type": "markdown",
   "metadata": {},
   "source": [
    "Dla parametrów dobranych \"na oko\" algorytm symulowanego wyżarzania radzi sobie całkiem dobrze, a otrzymana wartość Cmax nie odbiega zbytnio od wartości uzyskanej przy pomocy NEH'a. Jednak przy tak ustawionych parametrach czas wykonania algorytmu SW jest znacznie dłuższy niż NEH'a."
   ]
  },
  {
   "cell_type": "code",
   "execution_count": null,
   "metadata": {},
   "outputs": [],
   "source": []
  },
  {
   "cell_type": "code",
   "execution_count": null,
   "metadata": {},
   "outputs": [],
   "source": []
  },
  {
   "cell_type": "code",
   "execution_count": null,
   "metadata": {},
   "outputs": [],
   "source": []
  },
  {
   "cell_type": "code",
   "execution_count": null,
   "metadata": {},
   "outputs": [],
   "source": []
  },
  {
   "cell_type": "code",
   "execution_count": null,
   "metadata": {},
   "outputs": [],
   "source": []
  }
 ],
 "metadata": {
  "kernelspec": {
   "display_name": "Python 3",
   "language": "python",
   "name": "python3"
  },
  "language_info": {
   "codemirror_mode": {
    "name": "ipython",
    "version": 3
   },
   "file_extension": ".py",
   "mimetype": "text/x-python",
   "name": "python",
   "nbconvert_exporter": "python",
   "pygments_lexer": "ipython3",
   "version": "3.7.1"
  }
 },
 "nbformat": 4,
 "nbformat_minor": 2
}
