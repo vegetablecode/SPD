{
 "cells": [
  {
   "cell_type": "markdown",
   "metadata": {},
   "source": [
    "# ALGORYTM CARLIER"
   ]
  },
  {
   "cell_type": "markdown",
   "metadata": {},
   "source": [
    "1. Pierwsza czescia zadania byla implmentacja algorytmu Carlier, ktory dla wszystkich instancji poda poprawny wynik."
   ]
  },
  {
   "cell_type": "code",
   "execution_count": 3,
   "metadata": {},
   "outputs": [],
   "source": [
    "import copy\n",
    "from datareader import get_data\n",
    "from makespan import makespan, get_order\n",
    "from schrage import schrage_n2, schrage_n2_pmtn\n",
    "from timeit import default_timer as timer"
   ]
  },
  {
   "cell_type": "markdown",
   "metadata": {},
   "source": [
    "Pobieranie listy instancji:"
   ]
  },
  {
   "cell_type": "code",
   "execution_count": 4,
   "metadata": {},
   "outputs": [],
   "source": [
    "task_list = [\"data.000\", \"data.001\", \"data.002\", \"data.003\", \"data.004\", \"data.005\", \"data.006\", \"data.007\", \"data.008\"]\n"
   ]
  },
  {
   "cell_type": "markdown",
   "metadata": {},
   "source": [
    "Sama implementacja podstawowego algorytmu Carlier wyglada nastepujaco (typ WIDE LEFT):"
   ]
  },
  {
   "cell_type": "code",
   "execution_count": 6,
   "metadata": {},
   "outputs": [],
   "source": [
    "# wide left\n",
    "def carlier_wl(tasks):\n",
    "    # ----- \"GLOBAL\" VARIABLES DECLARATION ----- #\n",
    "    # u: cmax for schrage\n",
    "    # pi: tasks sorted with schrage\n",
    "    # ub: upper border\n",
    "    # lb: lower border\n",
    "\n",
    "    global u\n",
    "    global pi\n",
    "    global ub\n",
    "    global lb\n",
    "    global pi_list\n",
    "\n",
    "    u, pi = schrage(copy.deepcopy(pi_list[0]))\n",
    "    if u < ub:\n",
    "        ub = u\n",
    "\n",
    "    # find b, a, c values\n",
    "    b = calculate_b(u, pi)\n",
    "    a = calculate_a(b, u, pi)\n",
    "    c = calculate_c(b, a, pi)\n",
    "\n",
    "    #  if c doesn't exist\n",
    "    if c < 0:\n",
    "        return ub\n",
    "\n",
    "    # calculate r1, p1, q1\n",
    "    r_1 = pi[c + 1].times[0]\n",
    "    p_1 = 0\n",
    "    q_1 = pi[c + 1].times[2]\n",
    "\n",
    "    for i in range(c + 1, b + 1):\n",
    "        p_1 += pi[i].times[1]\n",
    "        if r_1 > pi[i].times[0]:\n",
    "            r_1 = pi[i].times[0]\n",
    "        if q_1 > pi[i].times[2]:\n",
    "            q_1 = pi[i].times[2]\n",
    "\n",
    "    # LEFT NODE\n",
    "    r_pi_c = pi[c].times[0]\n",
    "    pi[c].times[0] = max(pi[c].times[0], r_1 + p_1)\n",
    "\n",
    "    p_2 = 0\n",
    "    r_2 = pi[c].times[0]\n",
    "    q_2 = pi[c].times[2]\n",
    "\n",
    "    for i in range(c, b + 1):\n",
    "        p_2 += pi[i].times[1]\n",
    "        if r_2 > pi[i].times[0]:\n",
    "            r_2 = pi[i].times[0]\n",
    "        if q_2 > pi[i].times[2]:\n",
    "            q_2 = pi[i].times[2]\n",
    "\n",
    "    lb, ptmn_order = schrage_pmtn(copy.deepcopy(pi))\n",
    "    lb = max(max(r_1 + q_1 + p_1, r_2 + q_2 + p_2), lb)\n",
    "    if lb < ub:\n",
    "        pi_list.append(copy.deepcopy(pi))\n",
    "    pi[c].times[0] = r_pi_c\n",
    "\n",
    "    # RIGHT NODE\n",
    "    r_pi_c = pi[c].times[2]\n",
    "    pi[c].times[2] = max(pi[c].times[2], q_1 + p_1)\n",
    "\n",
    "    p_2 = 0\n",
    "    r_2 = pi[c].times[0]\n",
    "    q_2 = pi[c].times[2]\n",
    "\n",
    "    for i in range(c, b + 1):\n",
    "        p_2 += pi[i].times[1]\n",
    "        if r_2 > pi[i].times[0]:\n",
    "            r_2 = pi[i].times[0]\n",
    "        if q_2 > pi[i].times[2]:\n",
    "            q_2 = pi[i].times[2]\n",
    "\n",
    "    lb, order = schrage_pmtn(copy.deepcopy(pi))\n",
    "    lb = max(max(r_1 + q_1 + p_1, r_2 + q_2 + p_2), lb)\n",
    "\n",
    "    if lb < ub:\n",
    "        pi_list.append(copy.deepcopy(pi))\n",
    "    pi[c].times[2] = r_pi_c\n",
    "\n",
    "    # remove checked node from the list\n",
    "    pi_list.pop(0)\n",
    "    return carlier_wl(tasks)"
   ]
  },
  {
   "cell_type": "markdown",
   "metadata": {},
   "source": [
    "Porownano dzialanie algorytmu Carlier z algorytmem Schrage i Schrage PMTN"
   ]
  },
  {
   "cell_type": "code",
   "execution_count": null,
   "metadata": {},
   "outputs": [
    {
     "name": "stdout",
     "output_type": "stream",
     "text": [
      "TEST:  data.000\n",
      "-\n",
      "[CARLIER WL] makespan: 228, time: 6.4338240000552105\n",
      "RESULT:  OK  | SHOULD BE:  228\n",
      "-\n",
      "[CARLIER DL] makespan: 228, time: 5.846691999977338\n",
      "RESULT:  OK  | SHOULD BE:  228\n",
      "-\n",
      "[CARLIER GREEDY] makespan: 228, time: 5.621679000000768\n",
      "RESULT:  OK  | SHOULD BE:  228\n",
      "---------------------------------------------\n",
      "TEST:  data.001\n",
      "-\n",
      "[CARLIER WL] makespan: 2976, time: 1431.8746610000517\n",
      "RESULT:  BAD RESULT  | SHOULD BE:  3026\n",
      "-\n",
      "[CARLIER DL] makespan: 3026, time: 23420.981168000028\n",
      "RESULT:  OK  | SHOULD BE:  3026\n",
      "-\n"
     ]
    }
   ],
   "source": [
    "from carlier import carlier_wl\n",
    "\n",
    "for i in range(0, len(task_list)):\n",
    "    tasks = get_data(task_list[i])\n",
    "    #result = result_list[i]\n",
    "\n",
    "    print(\"TEST: \", task_list[i])\n",
    "\n",
    "    # SCHRAGE ORDER\n",
    "    schrage_n2_order, schrage_n2_time = schrage_n2(tasks)\n",
    "    schrage_n2_makespan = makespan(schrage_n2_order, tasks)\n",
    "\n",
    "    # SCHRAGE PMTN ORDER\n",
    "    schrage_n2_ptmn_makespan, schrage_n2_ptmn_order, schrage_n2_ptmn_time = schrage_n2_pmtn(tasks)\n",
    "\n",
    "    # CARLIER ORDER\n",
    "    carlier_makespan_pure, carlier_time_pure = carlier_wl(copy.deepcopy(tasks))"
   ]
  },
  {
   "cell_type": "code",
   "execution_count": null,
   "metadata": {},
   "outputs": [],
   "source": []
  }
 ],
 "metadata": {
  "kernelspec": {
   "display_name": "Python 3",
   "language": "python",
   "name": "python3"
  },
  "language_info": {
   "codemirror_mode": {
    "name": "ipython",
    "version": 3
   },
   "file_extension": ".py",
   "mimetype": "text/x-python",
   "name": "python",
   "nbconvert_exporter": "python",
   "pygments_lexer": "ipython3",
   "version": "3.6.7"
  }
 },
 "nbformat": 4,
 "nbformat_minor": 2
}
